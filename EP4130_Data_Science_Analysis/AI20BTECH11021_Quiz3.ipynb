{
 "cells": [
  {
   "attachments": {},
   "cell_type": "markdown",
   "metadata": {},
   "source": [
    "#### EP4130: Data Science Analysis\n",
    "\n",
    "#### Quiz 3\n",
    "\n",
    "#### Tanmay Goyal- AI20BTECH11021"
   ]
  },
  {
   "cell_type": "code",
   "execution_count": 1,
   "metadata": {},
   "outputs": [],
   "source": [
    "import numpy as np\n",
    "import matplotlib.pyplot as plt\n",
    "import scipy as sp"
   ]
  },
  {
   "attachments": {},
   "cell_type": "markdown",
   "metadata": {},
   "source": [
    "**Question 1**\n",
    "\n",
    "Two different experiments measure value of Hubble constant as $H_0 = 67 \\pm 2.3$ and $71 \\pm 1.3$. Calculate the significance of discrepancy between the measurements in terms of number of sigmas."
   ]
  },
  {
   "cell_type": "code",
   "execution_count": 6,
   "metadata": {},
   "outputs": [
    {
     "name": "stdout",
     "output_type": "stream",
     "text": [
      "The number of sigmas in discrepancy is 1.514\n"
     ]
    }
   ],
   "source": [
    "H0 = 67\n",
    "e0 = 2.3\n",
    "H1 = 71\n",
    "e1 = 1.3 \n",
    "\n",
    "z_score = (H1 - H0)/np.sqrt(e0**2 + e1**2)\n",
    "\n",
    "p_value = 1 - sp.stats.norm.cdf(z_score)\n",
    "\n",
    "print(\"The number of sigmas in discrepancy is {:.3f}\".format(sp.stats.norm.isf(p_value)))"
   ]
  },
  {
   "attachments": {},
   "cell_type": "markdown",
   "metadata": {},
   "source": [
    "**Question 2**\n",
    "\n",
    "What values of $\\Delta \\chi^2$ countours should be used for a model with 2 free parameters,  10 data points, if we want to get 85% confidence intervals?"
   ]
  },
  {
   "attachments": {},
   "cell_type": "markdown",
   "metadata": {},
   "source": [
    "Answer:\n",
    "\n",
    "$\\Delta \\chi^2 $ is distributed with #free params degree of freedoms. Thus, we require $\\Delta \\chi^2$ such that \n",
    "\n",
    "$\\Pr(\\chi^2 < \\Delta \\chi^2 , \\#\\text{free params}) = p\\%$"
   ]
  },
  {
   "cell_type": "code",
   "execution_count": 10,
   "metadata": {},
   "outputs": [
    {
     "name": "stdout",
     "output_type": "stream",
     "text": [
      "The constant countour value is 3.794\n"
     ]
    }
   ],
   "source": [
    "dof = 2\n",
    "confidence_percentage = 0.85\n",
    "print(\"The constant countour value is {:.3f}\".format(sp.stats.chi2(dof).ppf(confidence_percentage)))"
   ]
  },
  {
   "attachments": {},
   "cell_type": "markdown",
   "metadata": {},
   "source": [
    "**Question 3**\n",
    "\n",
    "Two model haves reduced chi square values of 1.3 and 0.7 for 6 and 8 number of free parameters. Calcuate $\\Delta$ BIC for A and B assuming both were fit to 10 data points."
   ]
  },
  {
   "cell_type": "code",
   "execution_count": 3,
   "metadata": {},
   "outputs": [
    {
     "name": "stdout",
     "output_type": "stream",
     "text": [
      "The difference in BIC is 7.22954296392043\n"
     ]
    }
   ],
   "source": [
    "# BIC = -2 ln(L) + M ln(N)\n",
    "\n",
    "N1 = 10\n",
    "N2 = 10\n",
    "M1 = 6\n",
    "M2 = 8\n",
    "\n",
    "likelihood1 = 1.3 * (N1 - M1)\n",
    "likelihood2 = 0.7 * (N2 - M2)\n",
    "\n",
    "def BIC(likelihood , N  , M):\n",
    "    return -2 * np.log(likelihood) + M * np.log(N)\n",
    "\n",
    "BIC1 = BIC(likelihood1 , N1 , M1)\n",
    "BIC2 = BIC(likelihood2 , N2 , M2)\n",
    "\n",
    "print(\"The difference in BIC is {}\".format(np.abs(BIC1 - BIC2)))"
   ]
  },
  {
   "attachments": {},
   "cell_type": "markdown",
   "metadata": {},
   "source": [
    "**Question 4**\n",
    "\n",
    "Show the code for generating 1000 Poisson ditributed random numbers with mean 10."
   ]
  },
  {
   "cell_type": "code",
   "execution_count": 4,
   "metadata": {},
   "outputs": [
    {
     "data": {
      "text/plain": [
       "array([ 6, 14, 12, 12, 12,  8, 11, 10, 14,  6,  9,  8, 11, 11,  8, 10, 12,\n",
       "       14, 10, 13, 13, 18, 12,  8,  9,  6,  9, 12, 12, 12,  6,  7, 11,  6,\n",
       "       11,  9,  7,  8, 16, 11, 10, 17, 13, 15, 11, 12,  7, 12, 11, 11, 10,\n",
       "        8, 11, 10, 12, 17, 11,  7,  9, 10,  8,  7,  9, 12, 11, 21, 15,  5,\n",
       "       13, 11,  6, 10, 11,  8, 11,  6, 11, 12, 11, 10,  5,  9, 10,  7, 11,\n",
       "       10, 15, 11, 11, 12,  8, 13, 10, 17, 13, 11, 10, 13,  9,  7, 10,  8,\n",
       "       12,  7,  4, 11,  7,  8, 14, 14, 14, 17, 10, 13,  6, 10, 11, 10,  5,\n",
       "       12, 10,  9, 14,  8, 13, 11, 12, 15,  9,  7, 11, 11,  7,  9,  9, 10,\n",
       "       11,  9,  7,  9,  6,  8,  9, 12,  7,  8, 13, 10, 11,  9,  3, 14,  4,\n",
       "       14, 11, 13, 11, 11,  5, 13,  5, 13, 13, 10, 13, 12, 14, 11,  6,  9,\n",
       "        9,  8, 10,  7, 15, 18, 17,  7, 12,  9, 11, 11, 11,  7, 10, 10,  6,\n",
       "       16,  8, 11,  8, 14, 11, 11,  8,  9,  9, 10,  9, 10, 10,  6, 11, 11,\n",
       "       11, 11,  5, 15,  5, 11,  8, 15,  5,  7, 10, 11,  7,  9, 14,  9,  7,\n",
       "        8, 12, 17, 13,  5,  9, 18,  7,  7, 10, 12, 13, 10,  8, 12,  8,  8,\n",
       "       12,  7, 13,  8,  5, 10, 13,  7, 11, 13,  9, 16,  8, 10, 10,  6, 17,\n",
       "        7,  7,  8,  6, 11, 19,  3,  4, 14,  5, 12,  5,  9,  8,  9, 12, 10,\n",
       "        7, 12,  7, 14, 14, 10,  6,  9, 16, 12,  5,  8,  7,  8,  3,  7, 11,\n",
       "       11,  9,  4,  5, 10,  7,  6,  3,  9, 12, 14, 13, 11, 13,  7, 11, 11,\n",
       "        7, 10,  6, 11, 11, 12,  7, 10,  9, 10, 14,  7, 17,  8, 13, 10,  6,\n",
       "        6, 11,  6, 14,  8, 10,  9, 13, 10,  8,  6, 10, 11, 10, 10, 11,  7,\n",
       "        4, 14, 11, 13, 13,  8,  9,  9, 11, 13, 12,  6, 10, 13,  7,  9,  9,\n",
       "        7,  9, 21, 10,  9, 14, 11,  8,  7,  8, 11,  8, 13,  5, 10, 10, 13,\n",
       "       12, 17,  9,  6,  8, 12, 10,  9,  5,  4, 10,  7, 11, 11,  6, 17, 13,\n",
       "       13, 10, 15, 11,  3,  9, 11,  8, 16, 10,  8, 14, 14, 18,  8, 11,  7,\n",
       "       13, 10, 12, 13,  7, 14, 11, 13,  8, 11,  9,  5,  9,  8,  8, 17, 15,\n",
       "       10, 11, 10,  7, 13, 10, 12,  9, 10, 12,  8, 13,  9, 12, 12, 10,  9,\n",
       "       10, 11,  8, 11,  8,  7, 12, 13,  8,  9, 12, 10,  8, 16, 11, 11, 11,\n",
       "       13,  9, 14, 10,  5, 11,  9, 13,  9, 10,  6,  6,  6, 14,  5,  6,  8,\n",
       "       11,  8,  9,  4, 12,  4,  7, 10,  8,  8, 11,  7, 10,  5,  6, 10,  9,\n",
       "       12,  9, 13,  6, 12, 13, 13, 10, 18, 18, 11, 17,  9, 12, 11, 12,  6,\n",
       "        9,  8, 19,  8, 11,  6,  9,  9,  7,  4, 12, 17, 11, 12, 14, 11, 11,\n",
       "        9,  5, 11,  9, 14,  9, 16,  9,  9,  8, 15,  7,  7,  9, 11,  7,  8,\n",
       "        5, 10,  7,  9, 14,  6,  9, 17,  8, 11, 12, 17,  9, 11, 11, 12, 14,\n",
       "       13, 11,  5,  9,  7, 13, 10,  7,  9, 13, 18,  7,  6,  7,  7,  7, 17,\n",
       "       11,  4,  9, 13, 12, 13,  5, 13,  7,  7,  9,  9, 10, 14,  5, 11,  9,\n",
       "       16, 15, 13,  6,  9,  6, 10,  9, 12, 16, 19, 11, 11, 15,  9,  5,  9,\n",
       "       10, 10,  6, 15, 10, 14, 12,  8,  7, 13, 15, 13, 14,  8,  6, 11,  5,\n",
       "        7,  9, 12, 11,  9, 12,  9, 11, 13, 11,  3, 11,  9, 13,  9, 11,  6,\n",
       "       15,  5, 13,  8, 10, 10,  8, 14, 13, 14, 10, 14,  8,  7, 10,  9,  9,\n",
       "        6, 15,  5,  7, 12,  9,  5, 15, 13,  6,  7,  8, 14,  8, 15,  8, 11,\n",
       "        4, 12, 15, 12, 10, 16,  4, 15, 13, 12,  9,  9, 10,  9, 11, 17, 10,\n",
       "       15, 11, 13, 12,  7,  8,  5, 11, 11, 12, 10, 14, 11, 11,  8,  5,  7,\n",
       "       16,  8, 11,  9, 10,  4, 11,  6,  6,  7,  4,  9,  9, 14,  8,  9,  9,\n",
       "       12, 11,  6, 14,  9, 18,  8, 17, 16, 12,  7, 10,  7,  9,  7,  7, 13,\n",
       "       15,  6,  7,  7,  8, 10,  9, 13,  4,  5,  4,  5, 10,  7,  5,  7,  8,\n",
       "       10, 12, 15,  9,  4, 10,  9,  8,  9, 10,  5, 14,  7, 10, 12,  8,  5,\n",
       "        7, 13, 11, 13,  7,  5,  6, 13, 10, 10, 12, 12,  5, 12,  7,  6, 11,\n",
       "        9,  7, 14,  9, 13,  8,  9,  5,  9,  8, 10, 13,  8, 11, 12,  9, 13,\n",
       "       13,  7, 17, 11, 11,  7, 11, 11,  6,  9, 14, 12,  7,  5, 15, 14, 11,\n",
       "        8, 10, 11, 10, 12, 13, 13, 14, 15,  9, 11, 12, 12,  8, 10, 13, 15,\n",
       "        9, 12, 12,  9,  9, 11,  7,  5, 10, 10, 13, 10,  8,  8, 10, 14,  5,\n",
       "       12,  8,  9,  9,  8,  9,  8, 13,  9, 13, 14,  5, 10, 11, 12,  8,  9,\n",
       "        6, 10, 12, 12, 15,  5,  7, 13, 10, 12, 13, 14,  9,  9, 13,  5, 10,\n",
       "        8,  5, 12,  9,  7, 11, 10, 10,  7,  6, 12, 10, 11, 12,  5,  9, 11,\n",
       "        7, 10, 11, 15,  9,  7, 13,  8, 13, 13, 15,  8, 12, 15,  9,  8,  4,\n",
       "       12,  8, 11, 12, 11, 11,  8, 10, 15,  7, 15, 14,  9,  7, 12,  6, 13,\n",
       "       10, 15, 13, 10, 10, 13, 11,  8,  8, 10, 10, 11, 10, 10, 15, 12,  8,\n",
       "       14, 19,  9, 11, 11, 10, 10,  9,  7, 10,  9,  9,  7, 14,  6,  5, 13,\n",
       "        8, 11, 15, 10, 15,  2, 11,  6, 11,  9, 10, 17, 12, 15])"
      ]
     },
     "execution_count": 4,
     "metadata": {},
     "output_type": "execute_result"
    }
   ],
   "source": [
    "# lam is the mean of the poisson distribution\n",
    "data = np.random.poisson(lam = 10 , size = 1000)\n",
    "data"
   ]
  }
 ],
 "metadata": {
  "kernelspec": {
   "display_name": "test_env",
   "language": "python",
   "name": "python3"
  },
  "language_info": {
   "codemirror_mode": {
    "name": "ipython",
    "version": 3
   },
   "file_extension": ".py",
   "mimetype": "text/x-python",
   "name": "python",
   "nbconvert_exporter": "python",
   "pygments_lexer": "ipython3",
   "version": "3.9.13"
  },
  "orig_nbformat": 4
 },
 "nbformat": 4,
 "nbformat_minor": 2
}
