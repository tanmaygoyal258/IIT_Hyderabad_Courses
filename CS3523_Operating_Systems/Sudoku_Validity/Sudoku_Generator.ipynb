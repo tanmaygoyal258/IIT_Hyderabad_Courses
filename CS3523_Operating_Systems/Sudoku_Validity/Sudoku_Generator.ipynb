{
 "cells": [
  {
   "cell_type": "code",
   "execution_count": 1,
   "metadata": {},
   "outputs": [],
   "source": [
    "from sudoku import Sudoku\n",
    "# Initializes a Sudoku puzzle with 3 x 3 sub-grid and\n",
    "# generates a puzzle with half of the cells empty\n"
   ]
  },
  {
   "cell_type": "code",
   "execution_count": 2,
   "metadata": {},
   "outputs": [
    {
     "name": "stdout",
     "output_type": "stream",
     "text": [
      "+-----+-----+\n",
      "| 3 1 | 2 4 |\n",
      "| 4 2 | 1 3 |\n",
      "+-----+-----+\n",
      "| 1 3 | 4 2 |\n",
      "| 2 4 | 3 1 |\n",
      "+-----+-----+\n",
      "\n"
     ]
    }
   ],
   "source": [
    "Sudoku(2).solve().show()"
   ]
  },
  {
   "cell_type": "code",
   "execution_count": 3,
   "metadata": {},
   "outputs": [
    {
     "name": "stdout",
     "output_type": "stream",
     "text": [
      "+-------+-------+-------+\n",
      "| 3 2 5 | 6 9 8 | 1 4 7 |\n",
      "| 7 8 4 | 3 5 1 | 6 9 2 |\n",
      "| 1 9 6 | 2 4 7 | 5 3 8 |\n",
      "+-------+-------+-------+\n",
      "| 6 4 1 | 7 8 3 | 2 5 9 |\n",
      "| 2 5 7 | 1 6 9 | 3 8 4 |\n",
      "| 9 3 8 | 5 2 4 | 7 1 6 |\n",
      "+-------+-------+-------+\n",
      "| 5 7 9 | 4 1 2 | 8 6 3 |\n",
      "| 8 6 3 | 9 7 5 | 4 2 1 |\n",
      "| 4 1 2 | 8 3 6 | 9 7 5 |\n",
      "+-------+-------+-------+\n",
      "\n"
     ]
    }
   ],
   "source": [
    "Sudoku(3).solve().show()"
   ]
  },
  {
   "cell_type": "code",
   "execution_count": 4,
   "metadata": {},
   "outputs": [
    {
     "name": "stdout",
     "output_type": "stream",
     "text": [
      "+-------------+-------------+-------------+-------------+\n",
      "| 03 01 06 07 | 02 04 05 09 | 16 10 08 11 | 12 13 14 15 |\n",
      "| 08 02 12 13 | 07 03 06 14 | 01 04 09 15 | 10 11 16 05 |\n",
      "| 14 15 16 04 | 01 10 11 13 | 02 05 12 03 | 06 07 08 09 |\n",
      "| 05 09 10 11 | 15 16 12 08 | 07 13 14 06 | 02 03 04 01 |\n",
      "+-------------+-------------+-------------+-------------+\n",
      "| 07 11 05 10 | 06 02 14 01 | 12 15 13 08 | 03 04 09 16 |\n",
      "| 15 04 13 08 | 05 07 16 03 | 14 11 06 09 | 01 02 10 12 |\n",
      "| 01 06 02 14 | 09 08 15 12 | 10 16 03 04 | 07 05 11 13 |\n",
      "| 12 03 09 16 | 10 11 13 04 | 05 01 02 07 | 08 06 15 14 |\n",
      "+-------------+-------------+-------------+-------------+\n",
      "| 10 16 11 12 | 04 05 08 07 | 03 02 15 14 | 13 09 01 06 |\n",
      "| 09 08 14 05 | 12 13 03 10 | 06 07 11 01 | 15 16 02 04 |\n",
      "| 04 13 15 06 | 16 14 01 02 | 09 08 05 10 | 11 12 03 07 |\n",
      "| 02 07 01 03 | 11 06 09 15 | 04 12 16 13 | 14 10 05 08 |\n",
      "+-------------+-------------+-------------+-------------+\n",
      "| 11 12 07 15 | 13 09 02 16 | 08 03 01 05 | 04 14 06 10 |\n",
      "| 13 10 08 02 | 14 15 07 05 | 11 06 04 16 | 09 01 12 03 |\n",
      "| 16 14 03 01 | 08 12 04 06 | 13 09 10 02 | 05 15 07 11 |\n",
      "| 06 05 04 09 | 03 01 10 11 | 15 14 07 12 | 16 08 13 02 |\n",
      "+-------------+-------------+-------------+-------------+\n",
      "\n"
     ]
    }
   ],
   "source": [
    "Sudoku(4).solve().show()"
   ]
  },
  {
   "cell_type": "code",
   "execution_count": 5,
   "metadata": {},
   "outputs": [
    {
     "name": "stdout",
     "output_type": "stream",
     "text": [
      "+----------------+----------------+----------------+----------------+----------------+\n",
      "| 12 13 17 18 19 | 07 01 02 05 21 | 03 11 20 22 24 | 16 04 14 15 06 | 23 25 08 09 10 |\n",
      "| 03 06 05 10 11 | 19 20 22 23 24 | 25 04 12 13 14 | 07 01 08 09 02 | 21 15 16 17 18 |\n",
      "| 21 22 23 24 25 | 08 09 15 06 16 | 01 02 05 07 18 | 17 10 20 19 11 | 03 04 12 13 14 |\n",
      "| 14 15 16 04 20 | 12 13 17 18 25 | 06 08 09 10 19 | 21 03 22 23 05 | 02 07 11 01 24 |\n",
      "| 02 01 07 08 09 | 03 10 11 14 04 | 15 17 21 23 16 | 24 12 18 25 13 | 19 05 06 20 22 |\n",
      "+----------------+----------------+----------------+----------------+----------------+\n",
      "| 18 08 03 15 13 | 20 02 16 01 14 | 12 10 17 04 21 | 19 07 23 06 25 | 05 09 24 22 11 |\n",
      "| 07 19 12 23 21 | 09 05 18 03 13 | 22 20 11 02 15 | 08 14 10 17 24 | 06 01 04 25 16 |\n",
      "| 17 09 06 20 02 | 21 07 19 04 15 | 18 24 25 16 23 | 11 05 01 22 12 | 10 03 14 08 13 |\n",
      "| 01 11 22 25 14 | 23 06 24 10 17 | 08 09 03 05 07 | 02 13 04 16 21 | 12 20 18 19 15 |\n",
      "| 10 16 04 05 24 | 25 12 08 11 22 | 13 19 14 06 01 | 15 20 03 18 09 | 07 21 17 02 23 |\n",
      "+----------------+----------------+----------------+----------------+----------------+\n",
      "| 11 12 25 21 10 | 02 15 01 16 03 | 20 06 04 17 22 | 09 19 24 13 14 | 18 08 23 07 05 |\n",
      "| 24 05 15 13 07 | 06 18 04 17 08 | 23 14 19 09 03 | 10 22 21 20 16 | 01 12 25 11 02 |\n",
      "| 22 20 14 01 08 | 13 21 07 19 05 | 11 16 24 18 12 | 23 25 06 02 15 | 04 17 09 10 03 |\n",
      "| 16 18 09 17 04 | 22 23 12 20 10 | 07 15 02 21 25 | 01 08 11 05 03 | 13 24 19 14 06 |\n",
      "| 06 03 02 19 23 | 24 25 14 09 11 | 10 05 08 01 13 | 04 18 12 07 17 | 22 16 20 15 21 |\n",
      "+----------------+----------------+----------------+----------------+----------------+\n",
      "| 25 02 10 11 15 | 05 19 20 07 01 | 17 18 23 24 09 | 12 06 16 08 22 | 14 13 03 21 04 |\n",
      "| 13 04 01 07 22 | 11 03 21 08 06 | 14 25 16 12 20 | 18 09 05 10 23 | 17 02 15 24 19 |\n",
      "| 05 21 20 16 03 | 14 17 23 12 09 | 02 13 06 15 11 | 25 24 19 04 01 | 08 22 10 18 07 |\n",
      "| 09 17 24 14 18 | 16 22 10 13 02 | 19 01 07 08 04 | 03 21 15 11 20 | 25 06 05 23 12 |\n",
      "| 19 23 08 06 12 | 04 24 25 15 18 | 21 22 10 03 05 | 13 17 02 14 07 | 09 11 01 16 20 |\n",
      "+----------------+----------------+----------------+----------------+----------------+\n",
      "| 20 07 19 09 17 | 01 08 05 02 12 | 24 23 18 11 10 | 22 16 13 03 04 | 15 14 21 06 25 |\n",
      "| 23 24 13 22 16 | 10 04 09 21 19 | 05 07 15 14 17 | 06 11 25 12 08 | 20 18 02 03 01 |\n",
      "| 04 14 18 02 01 | 15 11 03 22 20 | 09 21 13 25 06 | 05 23 17 24 10 | 16 19 07 12 08 |\n",
      "| 08 25 21 12 05 | 17 14 06 24 23 | 16 03 22 19 02 | 20 15 07 01 18 | 11 10 13 04 09 |\n",
      "| 15 10 11 03 06 | 18 16 13 25 07 | 04 12 01 20 08 | 14 02 09 21 19 | 24 23 22 05 17 |\n",
      "+----------------+----------------+----------------+----------------+----------------+\n",
      "\n"
     ]
    }
   ],
   "source": [
    "Sudoku(5).solve().show()"
   ]
  },
  {
   "cell_type": "code",
   "execution_count": 6,
   "metadata": {},
   "outputs": [
    {
     "ename": "KeyboardInterrupt",
     "evalue": "",
     "output_type": "error",
     "traceback": [
      "\u001b[0;31m---------------------------------------------------------------------------\u001b[0m",
      "\u001b[0;31mKeyboardInterrupt\u001b[0m                         Traceback (most recent call last)",
      "Cell \u001b[0;32mIn [6], line 1\u001b[0m\n\u001b[0;32m----> 1\u001b[0m Sudoku(\u001b[39m6\u001b[39m)\u001b[39m.\u001b[39msolve()\u001b[39m.\u001b[39mshow()\n",
      "File \u001b[0;32m/usr/local/Caskroom/miniforge/base/envs/test_env/lib/python3.10/site-packages/sudoku/sudoku.py:180\u001b[0m, in \u001b[0;36mSudoku.solve\u001b[0;34m(self, raising)\u001b[0m\n\u001b[1;32m    179\u001b[0m \u001b[39mdef\u001b[39;00m \u001b[39msolve\u001b[39m(\u001b[39mself\u001b[39m, raising: \u001b[39mbool\u001b[39m \u001b[39m=\u001b[39m \u001b[39mFalse\u001b[39;00m) \u001b[39m-\u001b[39m\u001b[39m>\u001b[39m \u001b[39m'\u001b[39m\u001b[39mSudoku\u001b[39m\u001b[39m'\u001b[39m:\n\u001b[0;32m--> 180\u001b[0m     solution \u001b[39m=\u001b[39m _SudokuSolver(\u001b[39mself\u001b[39;49m)\u001b[39m.\u001b[39;49m_solve() \u001b[39mif\u001b[39;00m \u001b[39mself\u001b[39m\u001b[39m.\u001b[39mvalidate() \u001b[39melse\u001b[39;00m \u001b[39mNone\u001b[39;00m\n\u001b[1;32m    181\u001b[0m     \u001b[39mif\u001b[39;00m solution:\n\u001b[1;32m    182\u001b[0m         \u001b[39mreturn\u001b[39;00m solution\n",
      "File \u001b[0;32m/usr/local/Caskroom/miniforge/base/envs/test_env/lib/python3.10/site-packages/sudoku/sudoku.py:23\u001b[0m, in \u001b[0;36m_SudokuSolver._solve\u001b[0;34m(self)\u001b[0m\n\u001b[1;32m     21\u001b[0m are_blanks_filled \u001b[39m=\u001b[39m [\u001b[39mFalse\u001b[39;00m \u001b[39mfor\u001b[39;00m _ \u001b[39min\u001b[39;00m \u001b[39mrange\u001b[39m(blank_count)]\n\u001b[1;32m     22\u001b[0m blank_fillers \u001b[39m=\u001b[39m \u001b[39mself\u001b[39m\u001b[39m.\u001b[39m__calculate_blank_cell_fillers(blanks)\n\u001b[0;32m---> 23\u001b[0m solution_board \u001b[39m=\u001b[39m \u001b[39mself\u001b[39;49m\u001b[39m.\u001b[39;49m__get_solution(\n\u001b[1;32m     24\u001b[0m     Sudoku\u001b[39m.\u001b[39;49m_copy_board(\u001b[39mself\u001b[39;49m\u001b[39m.\u001b[39;49msudoku\u001b[39m.\u001b[39;49mboard), blanks, blank_fillers, are_blanks_filled)\n\u001b[1;32m     25\u001b[0m solution_difficulty \u001b[39m=\u001b[39m \u001b[39m0\u001b[39m\n\u001b[1;32m     26\u001b[0m \u001b[39mif\u001b[39;00m \u001b[39mnot\u001b[39;00m solution_board:\n",
      "File \u001b[0;32m/usr/local/Caskroom/miniforge/base/envs/test_env/lib/python3.10/site-packages/sudoku/sudoku.py:118\u001b[0m, in \u001b[0;36m_SudokuSolver.__get_solution\u001b[0;34m(self, board, blanks, blank_fillers, are_blanks_filled)\u001b[0m\n\u001b[1;32m    116\u001b[0m     \u001b[39melse\u001b[39;00m:\n\u001b[1;32m    117\u001b[0m         revert_list[i] \u001b[39m=\u001b[39m \u001b[39mFalse\u001b[39;00m\n\u001b[0;32m--> 118\u001b[0m solution_board \u001b[39m=\u001b[39m \u001b[39mself\u001b[39;49m\u001b[39m.\u001b[39;49m__get_solution(\n\u001b[1;32m    119\u001b[0m     board, blanks, blank_fillers, are_blanks_filled)\n\u001b[1;32m    121\u001b[0m \u001b[39mif\u001b[39;00m solution_board:\n\u001b[1;32m    122\u001b[0m     \u001b[39mreturn\u001b[39;00m solution_board\n",
      "File \u001b[0;32m/usr/local/Caskroom/miniforge/base/envs/test_env/lib/python3.10/site-packages/sudoku/sudoku.py:118\u001b[0m, in \u001b[0;36m_SudokuSolver.__get_solution\u001b[0;34m(self, board, blanks, blank_fillers, are_blanks_filled)\u001b[0m\n\u001b[1;32m    116\u001b[0m     \u001b[39melse\u001b[39;00m:\n\u001b[1;32m    117\u001b[0m         revert_list[i] \u001b[39m=\u001b[39m \u001b[39mFalse\u001b[39;00m\n\u001b[0;32m--> 118\u001b[0m solution_board \u001b[39m=\u001b[39m \u001b[39mself\u001b[39;49m\u001b[39m.\u001b[39;49m__get_solution(\n\u001b[1;32m    119\u001b[0m     board, blanks, blank_fillers, are_blanks_filled)\n\u001b[1;32m    121\u001b[0m \u001b[39mif\u001b[39;00m solution_board:\n\u001b[1;32m    122\u001b[0m     \u001b[39mreturn\u001b[39;00m solution_board\n",
      "    \u001b[0;31m[... skipping similar frames: _SudokuSolver.__get_solution at line 118 (627 times)]\u001b[0m\n",
      "File \u001b[0;32m/usr/local/Caskroom/miniforge/base/envs/test_env/lib/python3.10/site-packages/sudoku/sudoku.py:118\u001b[0m, in \u001b[0;36m_SudokuSolver.__get_solution\u001b[0;34m(self, board, blanks, blank_fillers, are_blanks_filled)\u001b[0m\n\u001b[1;32m    116\u001b[0m     \u001b[39melse\u001b[39;00m:\n\u001b[1;32m    117\u001b[0m         revert_list[i] \u001b[39m=\u001b[39m \u001b[39mFalse\u001b[39;00m\n\u001b[0;32m--> 118\u001b[0m solution_board \u001b[39m=\u001b[39m \u001b[39mself\u001b[39;49m\u001b[39m.\u001b[39;49m__get_solution(\n\u001b[1;32m    119\u001b[0m     board, blanks, blank_fillers, are_blanks_filled)\n\u001b[1;32m    121\u001b[0m \u001b[39mif\u001b[39;00m solution_board:\n\u001b[1;32m    122\u001b[0m     \u001b[39mreturn\u001b[39;00m solution_board\n",
      "File \u001b[0;32m/usr/local/Caskroom/miniforge/base/envs/test_env/lib/python3.10/site-packages/sudoku/sudoku.py:80\u001b[0m, in \u001b[0;36m_SudokuSolver.__get_solution\u001b[0;34m(self, board, blanks, blank_fillers, are_blanks_filled)\u001b[0m\n\u001b[1;32m     78\u001b[0m \u001b[39mif\u001b[39;00m are_blanks_filled[i]:\n\u001b[1;32m     79\u001b[0m     \u001b[39mcontinue\u001b[39;00m\n\u001b[0;32m---> 80\u001b[0m valid_filler_count \u001b[39m=\u001b[39m \u001b[39msum\u001b[39;49m(blank_fillers[x][y])\n\u001b[1;32m     81\u001b[0m \u001b[39mif\u001b[39;00m valid_filler_count \u001b[39m==\u001b[39m \u001b[39m0\u001b[39m:\n\u001b[1;32m     82\u001b[0m     \u001b[39m# Blank cannot be filled with any number, no solution\u001b[39;00m\n\u001b[1;32m     83\u001b[0m     \u001b[39mreturn\u001b[39;00m \u001b[39mNone\u001b[39;00m\n",
      "\u001b[0;31mKeyboardInterrupt\u001b[0m: "
     ]
    }
   ],
   "source": [
    "Sudoku(6).solve().show()"
   ]
  },
  {
   "cell_type": "code",
   "execution_count": null,
   "metadata": {},
   "outputs": [],
   "source": [
    "Sudoku(7).solve().show()"
   ]
  },
  {
   "cell_type": "code",
   "execution_count": null,
   "metadata": {},
   "outputs": [],
   "source": [
    "Sudoku(8).solve().show()"
   ]
  },
  {
   "cell_type": "code",
   "execution_count": null,
   "metadata": {},
   "outputs": [],
   "source": [
    "Sudoku(9).solve().show()"
   ]
  },
  {
   "cell_type": "code",
   "execution_count": null,
   "metadata": {},
   "outputs": [],
   "source": [
    "Sudoku(10).solve().show()"
   ]
  }
 ],
 "metadata": {
  "kernelspec": {
   "display_name": "test_env",
   "language": "python",
   "name": "python3"
  },
  "language_info": {
   "codemirror_mode": {
    "name": "ipython",
    "version": 3
   },
   "file_extension": ".py",
   "mimetype": "text/x-python",
   "name": "python",
   "nbconvert_exporter": "python",
   "pygments_lexer": "ipython3",
   "version": "3.10.6 | packaged by conda-forge | (main, Aug 22 2022, 20:38:29) [Clang 13.0.1 ]"
  },
  "orig_nbformat": 4,
  "vscode": {
   "interpreter": {
    "hash": "f0b3843ef66ef72e0d095359ab408deb80cd37476039c722f337af7e4c5c1d89"
   }
  }
 },
 "nbformat": 4,
 "nbformat_minor": 2
}
