{
 "cells": [
  {
   "cell_type": "code",
   "execution_count": 516,
   "metadata": {},
   "outputs": [],
   "source": [
    "import numpy as np"
   ]
  },
  {
   "cell_type": "code",
   "execution_count": 517,
   "metadata": {},
   "outputs": [],
   "source": [
    "input_file = \"graph1.txt\""
   ]
  },
  {
   "cell_type": "code",
   "execution_count": 518,
   "metadata": {},
   "outputs": [],
   "source": [
    "data = []\n",
    "with open(input_file , 'r') as f:\n",
    "    for line in f.readlines():\n",
    "        if line[-1] == '\\n':\n",
    "            line = line[:-1]\n",
    "        data.append(line.split(' '))"
   ]
  },
  {
   "cell_type": "code",
   "execution_count": 519,
   "metadata": {},
   "outputs": [
    {
     "data": {
      "text/plain": [
       "[['9'],\n",
       " ['13'],\n",
       " ['1', '2'],\n",
       " ['1', '3'],\n",
       " ['2', '4'],\n",
       " ['2', '5'],\n",
       " ['3', '5'],\n",
       " ['4', '5'],\n",
       " ['4', '6'],\n",
       " ['4', '7'],\n",
       " ['5', '6'],\n",
       " ['5', '9'],\n",
       " ['6', '8'],\n",
       " ['7', '8'],\n",
       " ['8', '9']]"
      ]
     },
     "execution_count": 519,
     "metadata": {},
     "output_type": "execute_result"
    }
   ],
   "source": [
    "data"
   ]
  },
  {
   "cell_type": "code",
   "execution_count": 520,
   "metadata": {},
   "outputs": [
    {
     "name": "stdout",
     "output_type": "stream",
     "text": [
      "{(1, 2): 1, (1, 3): 1, (2, 4): 1, (2, 5): 1, (3, 5): 1, (4, 5): 1, (4, 6): 1, (4, 7): 1, (5, 6): 1, (5, 9): 1, (6, 8): 1, (7, 8): 1, (8, 9): 1}\n"
     ]
    }
   ],
   "source": [
    "d = {}\n",
    "n = int(data[0][0])\n",
    "for i in range(2 , len(data)):\n",
    "    v1 = int(data[i][0])\n",
    "    v2 = int(data[i][1])\n",
    "    pair = (min(v1 , v2) , max(v1 , v2))\n",
    "\n",
    "    if pair not in d:\n",
    "        d[pair] = 1\n",
    "    else:\n",
    "        d[pair] += 1\n",
    "\n",
    "print(d)"
   ]
  },
  {
   "cell_type": "code",
   "execution_count": 521,
   "metadata": {},
   "outputs": [
    {
     "name": "stdout",
     "output_type": "stream",
     "text": [
      "{(1, 2): 1, (1, 3): 1, (2, 4): 1, (2, 5): 1, (3, 5): 1, (4, 5): 1, (4, 6): 1, (4, 7): 1, (5, 6): 1, (5, 9): 1, (6, 8): 1, (7, 8): 1, (8, 9): 1}\n",
      "(4, 6)\n",
      "{(1, 2): 1, (1, 3): 1, (2, 5): 1, (3, 5): 1, (5, 9): 1, (7, 8): 1, (8, 9): 1, ((4, 6), 2): 1, ((4, 6), 5): 2, ((4, 6), 7): 1, ((4, 6), 8): 1}\n",
      "(8, 9)\n",
      "{(1, 2): 1, (1, 3): 1, (2, 5): 1, (3, 5): 1, ((4, 6), 2): 1, ((4, 6), 5): 2, ((4, 6), 7): 1, ((8, 9), 5): 1, ((8, 9), 7): 1, ((8, 9), (4, 6)): 1}\n",
      "((4, 6), 5)\n",
      "{(1, 2): 1, (1, 3): 1, ((8, 9), 7): 1, (((4, 6), 5), 2): 2, (((4, 6), 5), 3): 1, (((4, 6), 5), 7): 1, (((4, 6), 5), (8, 9)): 2}\n",
      "(((4, 6), 5), (8, 9))\n",
      "{(1, 2): 1, (1, 3): 1, ((((4, 6), 5), (8, 9)), 7): 2, ((((4, 6), 5), (8, 9)), 2): 2, ((((4, 6), 5), (8, 9)), 3): 1}\n",
      "((((4, 6), 5), (8, 9)), 3)\n",
      "{(1, 2): 1, (((((4, 6), 5), (8, 9)), 3), 1): 1, (((((4, 6), 5), (8, 9)), 3), 7): 2, (((((4, 6), 5), (8, 9)), 3), 2): 2}\n",
      "(((((4, 6), 5), (8, 9)), 3), 7)\n",
      "{(1, 2): 1, ((((((4, 6), 5), (8, 9)), 3), 7), 1): 1, ((((((4, 6), 5), (8, 9)), 3), 7), 2): 2}\n",
      "(1, 2)\n"
     ]
    }
   ],
   "source": [
    "while(n > 2):\n",
    "    print(d)\n",
    "    vals = []\n",
    "    for v in d.values():\n",
    "        vals.append(v)\n",
    "\n",
    "    vals = np.array(vals)\n",
    "\n",
    "    c = np.random.choice(np.arange(0 , len(d) , dtype = np.int64) , 1 , p = vals / vals.sum())\n",
    "\n",
    "    to_be_merged = list(d)[c[0]]\n",
    "    print(to_be_merged)\n",
    "    del d[to_be_merged]\n",
    "\n",
    "    extras = []\n",
    "    extra_d = {}\n",
    "    for k in d.keys():\n",
    "\n",
    "\n",
    "        if to_be_merged[0] in k:\n",
    "            extras.append(k)\n",
    "            total = d[k]\n",
    "            other_vertex = k[0] if k[0] != to_be_merged[0] else k[1]\n",
    "\n",
    "            possibility1 = (to_be_merged[1] , other_vertex)\n",
    "            possibility2 = (other_vertex , to_be_merged[1])\n",
    "\n",
    "            if possibility1 in d:\n",
    "                d[possibility1] += total\n",
    "                extras.append(possibility1)\n",
    "\n",
    "            elif possibility2 in d:\n",
    "                d[possibility2] += total\n",
    "                extras.append(possibility2)\n",
    "            \n",
    "            extra_d[(to_be_merged , other_vertex)] = total\n",
    "\n",
    "        elif to_be_merged[1] in k:\n",
    "            extras.append(k)\n",
    "            total = d[k]\n",
    "            other_vertex = k[0] if k[0] != to_be_merged[1] else k[1]\n",
    "\n",
    "            possibility1 = (to_be_merged[0] , other_vertex)\n",
    "            possibility2 = (other_vertex , to_be_merged[0])\n",
    "\n",
    "            if possibility1 in d:\n",
    "                d[possibility1] += total\n",
    "                extras.append(possibility1)\n",
    "\n",
    "            elif possibility2 in d:\n",
    "                d[possibility2] += total\n",
    "                extras.append(possibility2)\n",
    "            \n",
    "            extra_d[(to_be_merged , other_vertex)] = total\n",
    "\n",
    "\n",
    "    for e in extras:\n",
    "        if e in d.keys():\n",
    "            del d[e]\n",
    "\n",
    "    d = d | extra_d\n",
    "    n -= 1"
   ]
  },
  {
   "cell_type": "code",
   "execution_count": 525,
   "metadata": {},
   "outputs": [
    {
     "name": "stdout",
     "output_type": "stream",
     "text": [
      "[((1, 2), (((((4, 6), 5), (8, 9)), 3), 7))]\n"
     ]
    }
   ],
   "source": [
    "print(list(d))"
   ]
  },
  {
   "cell_type": "code",
   "execution_count": 536,
   "metadata": {},
   "outputs": [
    {
     "data": {
      "text/plain": [
       "(((((4, 6), 5), (8, 9)), 3), 7)"
      ]
     },
     "execution_count": 536,
     "metadata": {},
     "output_type": "execute_result"
    }
   ],
   "source": [
    "cut = list(d)[0]\n",
    "cut[-1]"
   ]
  },
  {
   "cell_type": "code",
   "execution_count": 544,
   "metadata": {},
   "outputs": [],
   "source": [
    "def tuple_to_cut(t , store):\n",
    "    for i in t:\n",
    "        if type(i) == int:\n",
    "            store.append(i)\n",
    "        else:\n",
    "            tuple_to_cut(i , store)\n",
    "\n",
    "    return store"
   ]
  },
  {
   "cell_type": "code",
   "execution_count": 545,
   "metadata": {},
   "outputs": [
    {
     "name": "stdout",
     "output_type": "stream",
     "text": [
      "[1, 2] [4, 6, 5, 8, 9, 3, 7]\n"
     ]
    }
   ],
   "source": [
    "cut1 = []\n",
    "cut2 = []\n",
    "\n",
    "cut1 = tuple_to_cut(cut[0] , cut1)\n",
    "cut2 = tuple_to_cut(cut[1] , cut2)\n",
    "\n",
    "print(cut1 , cut2)"
   ]
  },
  {
   "cell_type": "code",
   "execution_count": 546,
   "metadata": {},
   "outputs": [],
   "source": [
    "def hello(x , y):\n",
    "    y -= 1\n",
    "    x += 2\n",
    "\n",
    "    return x"
   ]
  },
  {
   "cell_type": "code",
   "execution_count": 549,
   "metadata": {},
   "outputs": [
    {
     "name": "stdout",
     "output_type": "stream",
     "text": [
      "5\n",
      "3 2\n"
     ]
    }
   ],
   "source": [
    "a = 3\n",
    "b = 2\n",
    "\n",
    "print(hello(a , b))\n",
    "\n",
    "print(a , b)"
   ]
  },
  {
   "cell_type": "code",
   "execution_count": 551,
   "metadata": {},
   "outputs": [
    {
     "data": {
      "text/plain": [
       "\"/Users/tanmaygoyal/Desktop/Assignments and Events/Probability in Computing/Karger's Algorithm\""
      ]
     },
     "execution_count": 551,
     "metadata": {},
     "output_type": "execute_result"
    }
   ],
   "source": [
    "import os\n",
    "os.getcwd()"
   ]
  }
 ],
 "metadata": {
  "kernelspec": {
   "display_name": "test_env",
   "language": "python",
   "name": "python3"
  },
  "language_info": {
   "codemirror_mode": {
    "name": "ipython",
    "version": 3
   },
   "file_extension": ".py",
   "mimetype": "text/x-python",
   "name": "python",
   "nbconvert_exporter": "python",
   "pygments_lexer": "ipython3",
   "version": "3.9.13"
  },
  "orig_nbformat": 4,
  "vscode": {
   "interpreter": {
    "hash": "02d57c3f8a04985323a54b9ea2d63cea7457f8854231fc23c74236c29696e6d2"
   }
  }
 },
 "nbformat": 4,
 "nbformat_minor": 2
}
