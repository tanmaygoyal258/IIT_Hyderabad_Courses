{
 "cells": [
  {
   "attachments": {},
   "cell_type": "markdown",
   "metadata": {},
   "source": [
    "#### EP4130: Data Science Analysis\n",
    "\n",
    "#### Assignment 4\n",
    "\n",
    "#### Tanmay Goyal- AI20BTECH11021"
   ]
  },
  {
   "attachments": {},
   "cell_type": "markdown",
   "metadata": {},
   "source": [
    "**Question 1**\n",
    "\n",
    "Download the data corresponding to $x , y , \\sigma_y$ given at http://www.iith.ac.in/~shantanud/testdata.dat\n",
    "\n",
    "Find the best fit values after fitting to linear, quadratic and cubic models. Find which model fits the best using frequentist criterion, as well as AIC and BIC. Use the Linear Model as null hypothesis to find the p-value corresponding to the preffered model. Also show the best fit curves for each model in a single plot."
   ]
  },
  {
   "cell_type": "code",
   "execution_count": 2,
   "metadata": {},
   "outputs": [],
   "source": [
    "import numpy as np\n",
    "import matplotlib.pyplot as plt\n",
    "import scipy as sp"
   ]
  },
  {
   "cell_type": "code",
   "execution_count": 3,
   "metadata": {},
   "outputs": [],
   "source": [
    "data = np.array([\n",
    "[0.417022004703, 0.121328306045, 0.1],\n",
    "[0.720324493442, 0.849527236006, 0.1],\n",
    "[0.000114374817345, -1.01701405804, 0.1],\n",
    "[0.302332572632, -0.391715712054, 0.1],\n",
    "[0.146755890817, -0.680729552205, 0.1],\n",
    "[0.0923385947688, -0.748514873007, 0.1],\n",
    "[0.186260211378, -0.702848628623, 0.1],\n",
    "[0.345560727043, -0.0749939588554, 0.1],\n",
    "[0.396767474231, 0.041118449128, 0.1],\n",
    "[0.538816734003, 0.418206374739, 0.1],\n",
    "[0.419194514403, 0.104198664639, 0.1],\n",
    "[0.685219500397, 0.7715919786, 0.1],\n",
    "[0.204452249732, -0.561583800669, 0.1],\n",
    "[0.878117436391, 1.43374816145, 0.1],\n",
    "[0.0273875931979, -0.971263541306, 0.1],\n",
    "[0.670467510178, 0.843497249235, 0.1],\n",
    "[0.417304802367, -0.0604131723596, 0.1],\n",
    "[0.558689828446, 0.389838628615, 0.1],\n",
    "[0.140386938595, -0.768234900293, 0.1],\n",
    "[0.198101489085, -0.649073386002, 0.1],\n",
    "])\n",
    "\n",
    "# extracting x, y and sigma_y data\n",
    "x = data[: , 0]\n",
    "y = data[: , 1]\n",
    "sigma_y= data[: , 2]"
   ]
  },
  {
   "cell_type": "code",
   "execution_count": 4,
   "metadata": {},
   "outputs": [],
   "source": [
    "def linear_fit(x , m , b):\n",
    "    return m * x + b\n",
    "\n",
    "def quadratic_fit(x , a , b , c):\n",
    "    return a * (x**2) + b * x  + c\n",
    "\n",
    "def cubic_fit(x , a , b , c , d):\n",
    "    return a * (x**3) + b * (x**2) + c * x + d"
   ]
  },
  {
   "cell_type": "code",
   "execution_count": 5,
   "metadata": {},
   "outputs": [],
   "source": [
    "def y_predict(param_opt , x ):\n",
    "    if len(param_opt) == 2:\n",
    "        return np.array([linear_fit(x_data , param_opt[0] , param_opt[1]) for x_data in x])\n",
    "    elif len(param_opt) == 3:\n",
    "        return np.array([quadratic_fit(x_data , param_opt[0] , param_opt[1] , param_opt[2]) for x_data in x])\n",
    "    elif len(param_opt) == 4:\n",
    "        return np.array([cubic_fit(x_data , param_opt[0] , param_opt[1] , param_opt[2] , param_opt[3]) for x_data in x])"
   ]
  },
  {
   "cell_type": "code",
   "execution_count": 6,
   "metadata": {},
   "outputs": [],
   "source": [
    "def chi_likelyhood(param_opt, x , y , sigma_y):\n",
    "    \n",
    "    # finding the y_predicted values\n",
    "    y_predicted = y_predict(param_opt , x )\n",
    "    \n",
    "    chi2 = np.sum(((y - y_predicted)**2) / (sigma_y**2))\n",
    "\n",
    "    # dof = number of data points - number of free parameters\n",
    "    dof = len(x) - len(param_opt)                     \n",
    "\n",
    "    # probability of obtaining chi2 value from X2 distribution with dof = dof\n",
    "    return sp.stats.chi2(dof).pdf(chi2)                         "
   ]
  },
  {
   "cell_type": "code",
   "execution_count": 7,
   "metadata": {},
   "outputs": [],
   "source": [
    "def log_likelyhood(x , loc , scale):\n",
    "    return -0.5 * (np.log((2 * np.pi * scale**2)) + ((x - loc)/scale)**2)"
   ]
  },
  {
   "cell_type": "code",
   "execution_count": 8,
   "metadata": {},
   "outputs": [],
   "source": [
    "def AIC(param_opt , x , y , sigma_y):\n",
    "    # finding the y_predicted values\n",
    "    y_predicted = y_predict(param_opt , x)\n",
    "\n",
    "    # finding the log_likelyhood in total taking mean to be y_predicted and variance to be sigma_y\n",
    "    log_likelyhoods = np.sum(np.array([log_likelyhood(y_data , y_predicted[i] , sigma_y[i]) for i , y_data in enumerate(y)]))\n",
    "\n",
    "    # number of free parameters\n",
    "    free_param = len(param_opt)\n",
    "\n",
    "    # formula for AIC\n",
    "    return -2 * log_likelyhoods + 2 * free_param"
   ]
  },
  {
   "cell_type": "code",
   "execution_count": 9,
   "metadata": {},
   "outputs": [],
   "source": [
    "def BIC(param_opt , x , y , sigma_y):\n",
    "    # finding the y_predicted values\n",
    "    y_predicted = y_predict(param_opt , x )\n",
    "    \n",
    "    # finding the log_likelyhood in total taking mean to be y_predicted and variance to be sigma_y\n",
    "    log_likelyhoods = np.sum(np.array([log_likelyhood(y_data , y_predicted[i] , sigma_y[i]) for i , y_data in enumerate(y)]))\n",
    "\n",
    "    # number of free parameters\n",
    "    free_param = len(param_opt)\n",
    "\n",
    "    # formula for AIC\n",
    "    return -2 * log_likelyhoods +  free_param * np.log(len(x))\n"
   ]
  },
  {
   "cell_type": "code",
   "execution_count": 10,
   "metadata": {},
   "outputs": [],
   "source": [
    "def pvalue(param_opt , param_opt_wrt , x , y , sigma_y):\n",
    "\n",
    "    # finding the difference in chi square likelyhoods for both models\n",
    "    chi_diff = chi_likelyhood(param_opt_wrt , x , y , sigma_y) - chi_likelyhood(param_opt , x , y , sigma_y)\n",
    "\n",
    "    # finding the difference in free paramters to be dof\n",
    "    dof = np.abs(len(param_opt) - len(param_opt_wrt))\n",
    "\n",
    "    # finding the pvalue\n",
    "    return 1 - sp.stats.chi2(dof).cdf(chi_diff)"
   ]
  },
  {
   "cell_type": "code",
   "execution_count": 11,
   "metadata": {},
   "outputs": [
    {
     "name": "stdout",
     "output_type": "stream",
     "text": [
      "The best fit parameters for (mx + b) are [ 2.79789861 -1.11028082]\n",
      "The best fit parameters for (ax^2 + bx + c) are [ 0.50261293  2.38475187 -1.05578915]\n",
      "The best fit parameters for (ax^3 + bx^2 + cx + d) are [-0.96724992  1.74451332  1.97184055 -1.02910462]\n",
      "\n",
      "\n",
      "The chi-square likelyhood for the linear fit is 0.045383795585918596\n",
      "The chi-square likelyhood for the quadratic fit is 0.036608447550140234\n",
      "The chi-square likelyhood for the cubic fit is 0.042152806010060016\n",
      "\n",
      "\n",
      "Since the likelyhood of seeing the data given the linear model is maximum, the linear model is favoured.\n",
      "The AIC value for the linear fit is -40.0366868160727\n",
      "The AIC value for the quadratic fit is -39.84982062400562\n",
      "The AIC value for the cubic fit is -38.26081851760257\n",
      "\n",
      "\n",
      "The BIC value for the linear fit is -38.04522226896472\n",
      "The BIC value for the quadratic fit is -36.86262380334365\n",
      "The BIC value for the cubic fit is -34.27788942338661\n",
      "\n",
      "\n",
      "The minimum AIC and BIC values point to the linear model.\n",
      "\n",
      "\n",
      "The p-value of the quadratic model wrt linear model is 0.9253658781854517\n",
      "The p-value of the cubic model wrt linear model is 0.9983858094213667\n",
      "The high values mean the models are very similar.\n"
     ]
    },
    {
     "data": {
      "image/png": "[encoded data removed]",
      "text/plain": [
       "<Figure size 640x480 with 1 Axes>"
      ]
     },
     "metadata": {},
     "output_type": "display_data"
    }
   ],
   "source": [
    "opt_linear_param , _ = sp.optimize.curve_fit(linear_fit , x , y , sigma = sigma_y)\n",
    "opt_quadratic_param , _ = sp.optimize.curve_fit(quadratic_fit , x , y , sigma = sigma_y)\n",
    "opt_cubic_param , _ = sp.optimize.curve_fit(cubic_fit , x , y , sigma = sigma_y)\n",
    "\n",
    "print(\"The best fit parameters for (mx + b) are {}\".format(opt_linear_param))\n",
    "print(\"The best fit parameters for (ax^2 + bx + c) are {}\".format(opt_quadratic_param))\n",
    "print(\"The best fit parameters for (ax^3 + bx^2 + cx + d) are {}\".format(opt_cubic_param))\n",
    "print(\"\\n\")\n",
    "\n",
    "# printing the Chi-square likelyhoods\n",
    "print(\"The chi-square likelyhood for the linear fit is {}\".format(chi_likelyhood(opt_linear_param , x , y , sigma_y)))\n",
    "print(\"The chi-square likelyhood for the quadratic fit is {}\".format(chi_likelyhood(opt_quadratic_param , x , y , sigma_y)))\n",
    "print(\"The chi-square likelyhood for the cubic fit is {}\".format(chi_likelyhood(opt_cubic_param , x , y , sigma_y)))\n",
    "print(\"\\n\")\n",
    "print(\"Since the likelyhood of seeing the data given the linear model is maximum, the linear model is favoured.\")\n",
    "\n",
    "# print the AIC and BIC values\n",
    "print(\"The AIC value for the linear fit is {}\".format(AIC(opt_linear_param , x , y , sigma_y)))\n",
    "print(\"The AIC value for the quadratic fit is {}\".format(AIC(opt_quadratic_param , x , y , sigma_y)))\n",
    "print(\"The AIC value for the cubic fit is {}\".format(AIC(opt_cubic_param , x , y , sigma_y)))\n",
    "print(\"\\n\")\n",
    "print(\"The BIC value for the linear fit is {}\".format(BIC(opt_linear_param , x , y , sigma_y)))\n",
    "print(\"The BIC value for the quadratic fit is {}\".format(BIC(opt_quadratic_param , x , y , sigma_y)))\n",
    "print(\"The BIC value for the cubic fit is {}\".format(BIC(opt_cubic_param , x , y , sigma_y)))\n",
    "print(\"\\n\")\n",
    "print(\"The minimum AIC and BIC values point to the linear model.\")\n",
    "print(\"\\n\")\n",
    "\n",
    "\n",
    "# treating the linear model as null hypothesis, we find the p-values for quadratic and cubic models\n",
    "print(\"The p-value of the quadratic model wrt linear model is {}\".format(pvalue(opt_quadratic_param , opt_linear_param , x , y , sigma_y)))\n",
    "print(\"The p-value of the cubic model wrt linear model is {}\".format(pvalue(opt_cubic_param , opt_linear_param , x , y , sigma_y)))\n",
    "print(\"The high values mean the models are very similar.\")\n",
    "\n",
    "# plotting the data\n",
    "x_plot = np.linspace(0, 1, 2500)\n",
    "# plt.plot(x , y , 'mo',label = \"Data points\")\n",
    "plt.plot(x_plot , y_predict(opt_linear_param , x_plot) , 'r-',label = \"Linear fit\")\n",
    "plt.plot(x_plot , y_predict(opt_quadratic_param , x_plot) , 'b--' , linewidth = 2 ,label = \"Quadratic fit\")\n",
    "plt.plot(x_plot , y_predict(opt_cubic_param , x_plot) , 'g-.',label = \"Cubic fit\")\n",
    "plt.errorbar(x, y, yerr = sigma_y , fmt = 'ko', ecolor = 'gray' , capsize = 7)\n",
    "plt.grid()\n",
    "plt.xlabel(\"x\")\n",
    "plt.ylabel(\"y\")\n",
    "plt.title(\"Depicting the best-fit Linear, Quadratic and Cubic models for given set of data\")\n",
    "plt.legend()\n",
    "\n",
    "\n",
    "plt.show()"
   ]
  },
  {
   "attachments": {},
   "cell_type": "markdown",
   "metadata": {},
   "source": [
    "**Question 2**\n",
    "\n",
    "For the model comparision problem in JVDP's blog, find the AIC and BIC for the linear and quadratic model. Mention the qualitative significance using strength of evidence rules.\n",
    "\n",
    "Link : http://jakevdp.github.io/blog/2015/08/07/frequentism-and-bayesianism-5-model-selection/"
   ]
  },
  {
   "cell_type": "code",
   "execution_count": 12,
   "metadata": {},
   "outputs": [],
   "source": [
    "# data from JDVP\n",
    "\n",
    "data = np.array([[ 0.42,  0.72,  0.  ,  0.3 ,  0.15,\n",
    "                   0.09,  0.19,  0.35,  0.4 ,  0.54,\n",
    "                   0.42,  0.69,  0.2 ,  0.88,  0.03,\n",
    "                   0.67,  0.42,  0.56,  0.14,  0.2  ],\n",
    "                 [ 0.33,  0.41, -0.22,  0.01, -0.05,\n",
    "                  -0.05, -0.12,  0.26,  0.29,  0.39, \n",
    "                   0.31,  0.42, -0.01,  0.58, -0.2 ,\n",
    "                   0.52,  0.15,  0.32, -0.13, -0.09 ],\n",
    "                 [ 0.1 ,  0.1 ,  0.1 ,  0.1 ,  0.1 ,\n",
    "                   0.1 ,  0.1 ,  0.1 ,  0.1 ,  0.1 ,\n",
    "                   0.1 ,  0.1 ,  0.1 ,  0.1 ,  0.1 ,\n",
    "                   0.1 ,  0.1 ,  0.1 ,  0.1 ,  0.1  ]])\n",
    "x, y, sigma_y = data"
   ]
  },
  {
   "cell_type": "code",
   "execution_count": 13,
   "metadata": {},
   "outputs": [
    {
     "name": "stdout",
     "output_type": "stream",
     "text": [
      "The AIC value for the linear fit is -40.02173401322528\n",
      "The AIC value for the quadratic fit is -39.883027173008216\n",
      "\n",
      "\n",
      "The BIC value for the linear fit is -38.030269466117296\n",
      "The BIC value for the quadratic fit is -36.895830352346245\n",
      "\n",
      "\n",
      "Both the AIC and BIC values agree with the linear model, which validates JVDP's blog.\n",
      "\n",
      "\n",
      "According to the strength of the evidence, delta_AIC = 0.13870684021706126 and delta_BIC = 1.1344391137710517, which says the quadratic model is not very favoured.\n"
     ]
    }
   ],
   "source": [
    "# finding the best fit\n",
    "opt_linear_param , _ = sp.optimize.curve_fit(linear_fit , x , y , sigma = sigma_y)\n",
    "opt_quadratic_param , _ = sp.optimize.curve_fit(quadratic_fit , x , y , sigma = sigma_y)\n",
    "\n",
    "# finding the AIC and BIC\n",
    "print(\"The AIC value for the linear fit is {}\".format(AIC(opt_linear_param , x , y , sigma_y)))\n",
    "print(\"The AIC value for the quadratic fit is {}\".format(AIC(opt_quadratic_param , x , y , sigma_y)))\n",
    "print(\"\\n\")\n",
    "print(\"The BIC value for the linear fit is {}\".format(BIC(opt_linear_param , x , y , sigma_y)))\n",
    "print(\"The BIC value for the quadratic fit is {}\".format(BIC(opt_quadratic_param , x , y , sigma_y)))\n",
    "print(\"\\n\")\n",
    "print(\"Both the AIC and BIC values agree with the linear model, which validates JVDP's blog.\")\n",
    "print(\"\\n\")\n",
    "print(\"According to the strength of the evidence, delta_AIC = {} and delta_BIC = {}, which says the quadratic model is not very favoured.\".\\\n",
    "    format(AIC(opt_quadratic_param , x , y , sigma_y) - AIC(opt_linear_param , x , y , sigma_y) , \\\n",
    "        BIC(opt_quadratic_param , x , y , sigma_y) - BIC(opt_linear_param , x , y , sigma_y)))"
   ]
  },
  {
   "attachments": {},
   "cell_type": "markdown",
   "metadata": {},
   "source": [
    "**Question 3**\n",
    "\n",
    "Find one paper that used the Kolmogorov-Smirnov Test and how it was used in the paper. Is the KS test used incorrectly as per the warnings on the Penn State University Website?\n",
    "\n",
    "Answer:\n",
    "\n",
    "https://arxiv.org/pdf/2211.00578.pdf\n",
    "\n",
    "The paper uses both the one-sample and two-sample KS tests. The one-sample KS test is used to figure out if the uncertanities in the Hubble constant can be modeled using a Gaussian Distribution. This does not violate the Penn State University warning as the constant is a one dimensional sample. Moreover, they also use the two-sample KS test to find which of the anchor galaxies are different from the others, if any, and use the results to improvise on their results."
   ]
  },
  {
   "attachments": {},
   "cell_type": "markdown",
   "metadata": {},
   "source": [
    "**Question 4**\n",
    "\n",
    "Calculate the significance in terms of no of sigmas of the Higgs boson\n",
    "discovery claim from the p value given in the abstract of the ATLAS\n",
    "discovery paper, arXiv:1207.7214.\n",
    "\n",
    "\n",
    "Do the same for the LIGO discovery of GW150914, for which the p\n",
    "value = 2 × $10^{-7}$\n",
    "\n",
    "\n",
    "From the Super-K discovery paper for neutrino oscillations (hep-\n",
    "ex/9807003), calculate the $\\chi^2$ GOF using the best-fit $\\nu_\\mu \\leftrightarrow \\nu_\\tau$  oscillation solution."
   ]
  },
  {
   "cell_type": "code",
   "execution_count": 14,
   "metadata": {},
   "outputs": [
    {
     "name": "stdout",
     "output_type": "stream",
     "text": [
      "The corresponding p-values and significance levels (in terms of sigma) are: \n",
      "p-value = 0.1 significance level = 1.2815515655446004\n",
      "p-value = 0.01 significance level = 2.3263478740408408\n",
      "p-value = 0.001 significance level = 3.090232306167813\n",
      "p-value = 1e-05 significance level = 4.264890793922825\n",
      "p-value = 1e-07 significance level = 5.1993375821928165\n",
      "p-value = 1e-09 significance level = 5.9978070150076865\n"
     ]
    }
   ],
   "source": [
    "# Higgs boson discovery\n",
    "p_vals = [10**-1, 10**-2, 10**-3, 10**-5, 10**-7, 10**-9]\n",
    "\n",
    "print(\"The corresponding p-values and significance levels (in terms of sigma) are: \")\n",
    "for p in p_vals:\n",
    "    print(\"p-value = {} significance level = {}\".format(p , sp.stats.norm.isf(p)))"
   ]
  },
  {
   "cell_type": "code",
   "execution_count": 15,
   "metadata": {},
   "outputs": [
    {
     "name": "stdout",
     "output_type": "stream",
     "text": [
      "The significance level of the LIGO discovery for p--value = 2 * 10^-7 in terms of sigma is 5.068957749717791 \n"
     ]
    }
   ],
   "source": [
    "# LIGO discovery\n",
    "print(\"The significance level of the LIGO discovery for p--value = 2 * 10^-7 in terms of sigma is {} \"\\\n",
    "    .format(sp.stats.norm.isf(2 * 10**(-7))))"
   ]
  },
  {
   "cell_type": "code",
   "execution_count": 16,
   "metadata": {},
   "outputs": [
    {
     "name": "stdout",
     "output_type": "stream",
     "text": [
      "The chi-square GOF is given by 0.5394901931099038\n"
     ]
    }
   ],
   "source": [
    "# Super K-discovery paper\n",
    "chi_square = 65.2\n",
    "\n",
    "# dof\n",
    "dof = 67\n",
    "\n",
    "print(\"The chi-square GOF is given by {}\".format(1 - sp.stats.chi2(dof).cdf(chi_square)))"
   ]
  }
 ],
 "metadata": {
  "kernelspec": {
   "display_name": "test_env",
   "language": "python",
   "name": "python3"
  },
  "language_info": {
   "codemirror_mode": {
    "name": "ipython",
    "version": 3
   },
   "file_extension": ".py",
   "mimetype": "text/x-python",
   "name": "python",
   "nbconvert_exporter": "python",
   "pygments_lexer": "ipython3",
   "version": "3.9.13"
  },
  "orig_nbformat": 4,
  "vscode": {
   "interpreter": {
    "hash": "02d57c3f8a04985323a54b9ea2d63cea7457f8854231fc23c74236c29696e6d2"
   }
  }
 },
 "nbformat": 4,
 "nbformat_minor": 2
}
