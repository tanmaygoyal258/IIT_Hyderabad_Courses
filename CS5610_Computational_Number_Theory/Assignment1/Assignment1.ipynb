{
 "cells": [
  {
   "cell_type": "code",
   "execution_count": 2,
   "metadata": {},
   "outputs": [],
   "source": [
    "class ExtendedEuclidAlg:\n",
    "\n",
    "    # defining the constructor\n",
    "    def __init__(self , a , b):\n",
    "        self.num1 = a\n",
    "        self.num2 = b\n",
    "\n",
    "        # we assume m < n\n",
    "        self.m = a if a < b else b      \n",
    "        self.n = b if self.m == a else a\n",
    "        \n",
    "        # to print the output in the correct order\n",
    "        self.swap = (self.num1 != self.m)\n",
    "\n",
    "        # setting up the matrix elements\n",
    "        self.M11 = 1\n",
    "        self.M12 = 0\n",
    "        self.M21 = 0 \n",
    "        self.M22 = 1\n",
    "    \n",
    "    def calculate(self):\n",
    "        '''\n",
    "        Runs Extended Euclid's Algorithm which is:\n",
    "        (a_i , b_i) = (b_i % a_i , a_i)\n",
    "        while a_i != 0\n",
    "\n",
    "        When a_i = 0, b_i = gcd(a,b)\n",
    "        '''\n",
    "        while self.m != 0:\n",
    "\n",
    "            # finding the new m and n\n",
    "            q = self.n // self.m\n",
    "            m_new = self.n - q * self.m\n",
    "            n_new = self.m\n",
    "\n",
    "            # setting up the matrix multiplication in equation form\n",
    "            M11_new = -q * self.M11 + self.M21\n",
    "            M12_new = -q * self.M12 + self.M22\n",
    "            M21_new = self.M11\n",
    "            M22_new = self.M12\n",
    "\n",
    "            # updating the values\n",
    "            self.m , self.n , self.M11 , self.M12 , self.M21 , self.M22 = m_new , n_new , M11_new , M12_new , M21_new , M22_new\n",
    "\n",
    "\n",
    "    def gcd(self):\n",
    "        '''\n",
    "        returns the gcd of two numbers\n",
    "        '''\n",
    "        # run Euclid's algorithm\n",
    "        self.calculate()\n",
    "        \n",
    "        # the gcd is then given by self.n\n",
    "        return self.n\n",
    "\n",
    "    def find_coeff(self):\n",
    "        '''\n",
    "        Using Bezout's Lemma, we can write \n",
    "        ax + by = gcd(a,b)\n",
    "        Returns the values of x and y\n",
    "        '''\n",
    "        # run Euclid's algorithm\n",
    "        self.calculate()\n",
    "\n",
    "        # if the numbers were swapped initially, return the swapped values\n",
    "        if self.swap:\n",
    "            return self.M22 , self.M21\n",
    "        return self.M21 , self.M22"
   ]
  },
  {
   "cell_type": "code",
   "execution_count": 3,
   "metadata": {},
   "outputs": [
    {
     "name": "stdout",
     "output_type": "stream",
     "text": [
      "x = -9 , y = 2 , c = 1\n",
      "x = 2 , y = -1 , c = 21\n",
      "x = -458 , y = 649 , c = 2\n",
      "x = -32 , y = 1 , c = 31\n",
      "x = -24184859 , y = 1067122 , c = 25\n",
      "x = -5684341886080801486969042968750 , y = 1 , c = 48828124\n",
      "x = 5727285548522105349281656509317508906187234459386880529814229155012214213209314 , y = -16034434090798966426968101456646257690824302782799176239613435092542218002458647 , c = 2\n"
     ]
    }
   ],
   "source": [
    "input_file = \"testinput.csv\"\n",
    "\n",
    "with open(input_file , \"r\") as f:\n",
    "    for line in f.readlines():\n",
    "        l = line.strip('\\n')\n",
    "        \n",
    "        # parsing the input based on if the delimiter is a space or a comma\n",
    "        if ' ' in l:\n",
    "            nums = [int(x) for x in l.split(' ')]\n",
    "        elif ',' in l:\n",
    "            nums = [int(x) for x in l.split(',')]\n",
    "\n",
    "        res = ExtendedEuclidAlg(nums[0] , nums[1])\n",
    "\n",
    "        print(\"x = {} , y = {} , c = {}\".format(*res.find_coeff() , res.gcd()))\n"
   ]
  }
 ],
 "metadata": {
  "kernelspec": {
   "display_name": "test_env",
   "language": "python",
   "name": "python3"
  },
  "language_info": {
   "codemirror_mode": {
    "name": "ipython",
    "version": 3
   },
   "file_extension": ".py",
   "mimetype": "text/x-python",
   "name": "python",
   "nbconvert_exporter": "python",
   "pygments_lexer": "ipython3",
   "version": "3.9.13"
  }
 },
 "nbformat": 4,
 "nbformat_minor": 2
}
