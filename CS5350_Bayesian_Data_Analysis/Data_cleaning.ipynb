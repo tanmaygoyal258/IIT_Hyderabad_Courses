{
 "cells": [
  {
   "cell_type": "code",
   "execution_count": 26,
   "metadata": {},
   "outputs": [],
   "source": [
    "import numpy as np"
   ]
  },
  {
   "cell_type": "code",
   "execution_count": 27,
   "metadata": {},
   "outputs": [],
   "source": [
    "data = []\n",
    "with open('data.txt' , 'r') as f:\n",
    "    for line in f.readlines():\n",
    "        data.append(line.strip('\\n'))"
   ]
  },
  {
   "cell_type": "code",
   "execution_count": 28,
   "metadata": {},
   "outputs": [
    {
     "data": {
      "text/plain": [
       "array([[0, 0, 0, 0, 0],\n",
       "       [0, 0, 0, 0, 1],\n",
       "       [0, 0, 0, 1, 0],\n",
       "       [0, 0, 0, 1, 1],\n",
       "       [0, 0, 1, 0, 0],\n",
       "       [0, 0, 1, 0, 1],\n",
       "       [0, 0, 1, 1, 0],\n",
       "       [0, 0, 1, 1, 1],\n",
       "       [0, 1, 0, 0, 0],\n",
       "       [0, 1, 0, 0, 1],\n",
       "       [0, 1, 0, 1, 0],\n",
       "       [0, 1, 0, 1, 1],\n",
       "       [0, 1, 1, 0, 0],\n",
       "       [0, 1, 1, 0, 1],\n",
       "       [0, 1, 1, 1, 0],\n",
       "       [0, 1, 1, 1, 1],\n",
       "       [1, 0, 0, 0, 0],\n",
       "       [1, 0, 0, 0, 1],\n",
       "       [1, 0, 0, 1, 0],\n",
       "       [1, 0, 0, 1, 1],\n",
       "       [1, 0, 1, 0, 0],\n",
       "       [1, 0, 1, 0, 1],\n",
       "       [1, 0, 1, 1, 0],\n",
       "       [1, 0, 1, 1, 1],\n",
       "       [1, 1, 0, 0, 0],\n",
       "       [1, 1, 0, 0, 1],\n",
       "       [1, 1, 0, 1, 0],\n",
       "       [1, 1, 0, 1, 1],\n",
       "       [1, 1, 1, 0, 0],\n",
       "       [1, 1, 1, 0, 1],\n",
       "       [1, 1, 1, 1, 0],\n",
       "       [1, 1, 1, 1, 1]])"
      ]
     },
     "execution_count": 28,
     "metadata": {},
     "output_type": "execute_result"
    }
   ],
   "source": [
    "choices = []\n",
    "for student in data[6 : len(data) - 3]:\n",
    "    choice = []\n",
    "    student_split = student.split(' ')\n",
    "    for c in student_split[-5 : ]:\n",
    "        if '[' in c:\n",
    "            choice.append(int(c[1]))\n",
    "        elif ']' in c:\n",
    "            choice.append(int(c[0]))\n",
    "        else:\n",
    "            choice.append(int(c))\n",
    "    choices.append(np.array(choice))\n",
    "choices = np.array(choices)   \n",
    "choices   "
   ]
  },
  {
   "cell_type": "code",
   "execution_count": 29,
   "metadata": {},
   "outputs": [
    {
     "data": {
      "text/plain": [
       "(32, 5)"
      ]
     },
     "execution_count": 29,
     "metadata": {},
     "output_type": "execute_result"
    }
   ],
   "source": [
    "choices.shape"
   ]
  },
  {
   "cell_type": "code",
   "execution_count": 30,
   "metadata": {},
   "outputs": [
    {
     "data": {
      "text/plain": [
       "array([   3,    9,   11,   22,   23,   24,   27,   31,   32,   40,   40,\n",
       "         56,   56,   59,   61,   76,   86,  115,  129,  210,  213,  241,\n",
       "        256,  336,  352,  408,  429,  602,  613,  674,  702, 1000])"
      ]
     },
     "execution_count": 30,
     "metadata": {},
     "output_type": "execute_result"
    }
   ],
   "source": [
    "cumulative = []\n",
    "\n",
    "cum1 = data[3].strip(' ')\n",
    "cum2 = data[4].strip(' ')[:-1]\n",
    "cum1 = cum1.strip('[')\n",
    "cum2 = cum2.strip(']')\n",
    "cum = cum1 + cum2\n",
    "cum_split = cum.split(',')\n",
    "for c in cum_split:\n",
    "    cumulative.append(int(c))\n",
    "\n",
    "cumulative = np.array(cumulative)\n",
    "cumulative"
   ]
  },
  {
   "cell_type": "code",
   "execution_count": 31,
   "metadata": {},
   "outputs": [
    {
     "data": {
      "text/plain": [
       "array([  3,   6,   2,  11,   1,   1,   3,   4,   1,   8,   0,  16,   0,\n",
       "         3,   2,  15,  10,  29,  14,  81,   3,  28,  15,  80,  16,  56,\n",
       "        21, 173,  11,  61,  28, 298])"
      ]
     },
     "execution_count": 31,
     "metadata": {},
     "output_type": "execute_result"
    }
   ],
   "source": [
    "dis_freq = []\n",
    "dis_freq.append(cumulative[0])\n",
    "for i in range(len(cumulative) - 1):\n",
    "    dis_freq.append(cumulative[i + 1] - cumulative[i])\n",
    "\n",
    "dis_freq = np.array(dis_freq)\n",
    "dis_freq"
   ]
  },
  {
   "cell_type": "code",
   "execution_count": 32,
   "metadata": {},
   "outputs": [],
   "source": [
    "data_matrix = []\n",
    "\n",
    "for idx in range(len(dis_freq)):\n",
    "    for i in range(dis_freq[idx]):\n",
    "        data_matrix.append(choices[idx])\n",
    "\n",
    "data_matrix  = np.array(data_matrix)"
   ]
  },
  {
   "cell_type": "code",
   "execution_count": 33,
   "metadata": {},
   "outputs": [],
   "source": [
    "with open('cleaned_data.csv' , 'w') as f:\n",
    "    for idx in range(len(dis_freq)):\n",
    "        for i in range(dis_freq[idx]):\n",
    "            for idx2 , j in enumerate(choices[idx]):\n",
    "                if idx2 != len(choices[idx]) - 1:\n",
    "                    f.write(str(j) + ' ')\n",
    "                else:\n",
    "                    f.write(str(j))\n",
    "            f.write('\\n')\n",
    "            "
   ]
  }
 ],
 "metadata": {
  "kernelspec": {
   "display_name": "test_env",
   "language": "python",
   "name": "python3"
  },
  "language_info": {
   "codemirror_mode": {
    "name": "ipython",
    "version": 3
   },
   "file_extension": ".py",
   "mimetype": "text/x-python",
   "name": "python",
   "nbconvert_exporter": "python",
   "pygments_lexer": "ipython3",
   "version": "3.9.13"
  },
  "orig_nbformat": 4
 },
 "nbformat": 4,
 "nbformat_minor": 2
}
