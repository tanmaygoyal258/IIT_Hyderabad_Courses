{
 "cells": [
  {
   "attachments": {},
   "cell_type": "markdown",
   "metadata": {},
   "source": [
    "#### EP4130: Data Science Analysis\n",
    "\n",
    "#### Assignment 3\n",
    "\n",
    "#### Tanmay Goyal- AI20BTECH11021"
   ]
  },
  {
   "cell_type": "code",
   "execution_count": 1,
   "metadata": {},
   "outputs": [],
   "source": [
    "# importing required libraries\n",
    "import numpy as np\n",
    "import matplotlib.pyplot as plt\n",
    "import scipy as sp"
   ]
  },
  {
   "attachments": {},
   "cell_type": "markdown",
   "metadata": {},
   "source": [
    "**Question 1**\n",
    "\n",
    "Draw a histogram of the median of 10000 bootstrap samples drawn from a Gaussian with mean 0 and standard deviation 1. The standard deviation of the sample median of a Gaussian distribution is equal to $\\sqrt{\\frac{\\pi}{2n}}$. Overlay a Gaussian distribution with mean equal to that of the generated data, and standard deviation equal to the standard_deviation of that of the median."
   ]
  },
  {
   "cell_type": "code",
   "execution_count": 6,
   "metadata": {},
   "outputs": [
    {
     "data": {
      "image/png": "[encoded data removed]",
      "text/plain": [
       "<Figure size 640x480 with 1 Axes>"
      ]
     },
     "metadata": {},
     "output_type": "display_data"
    }
   ],
   "source": [
    "# generating 1000 data points from Gaussian with mean 0 and variance 1\n",
    "data = np.random.normal(0 , 1 , 1000)\n",
    "\n",
    "# we now generate 10000 bootstrapped samples, each having 1000 numbers\n",
    "# since median involves sorting, we expect all the 10000 samples to have same median\n",
    "# but when we randomly generate indices for bootstrapping, replacement is allowed\n",
    "# hence, each of the 10000 samples will have different median\n",
    "\n",
    "medians = []\n",
    "\n",
    "for i in range(10000):\n",
    "\n",
    "    # generating 1000 random indices with replacement True, which allows for repitition of data\n",
    "    indices = np.random.choice(np.linspace(0 , 1000 , 1000 , endpoint = False,dtype = np.int64) , 1000 , replace = True)\n",
    "\n",
    "    # making the data\n",
    "    bootstrapped_data = np.array([data[i] for i in indices])\n",
    "\n",
    "    # appending the median\n",
    "    medians.append(np.median(bootstrapped_data))\n",
    "\n",
    "\n",
    "# plotting the histogram for the data\n",
    "plt.hist(medians , bins = 20 , color = 'red' , density = True)\n",
    "\n",
    "# overlaying the Gaussian\n",
    "mu = np.mean(data)\n",
    "std = np.sqrt(np.pi /(2 * 1000))\n",
    "\n",
    "# generating the pmf values\n",
    "x = np.linspace(-0.2 , 0.2 , 1000)\n",
    "y = sp.stats.norm.pdf(x , mu , std)\n",
    "\n",
    "# plotting the Gaussian\n",
    "plt.plot(x , y , 'b-')\n",
    "plt.grid()\n",
    "plt.title(\"Distribution of Medians of Bootstrapped Samples\")\n",
    "plt.show()"
   ]
  },
  {
   "attachments": {},
   "cell_type": "markdown",
   "metadata": {},
   "source": [
    "**Question 2**\n",
    "\n",
    "Use standarad Linear Algebra method to fit the straight line $y = mx + b$ to the $x , y , \\sigma_y$ datapoints given below. Make a plot showing the points, bestfit lines and their uncertainity. "
   ]
  },
  {
   "cell_type": "code",
   "execution_count": 12,
   "metadata": {},
   "outputs": [],
   "source": [
    "data = np.array([\n",
    " [203 ,495 ,21], \n",
    " [58 ,173  ,15], \n",
    " [210 ,479 ,27], \n",
    " [202 ,504 ,14], \n",
    " [198 ,510 ,30], \n",
    " [158 ,416 ,16], \n",
    " [165 ,393 ,14], \n",
    " [201 ,442 ,25], \n",
    " [157 ,317 ,52], \n",
    " [131 ,311 ,16], \n",
    " [166 ,400 ,34], \n",
    " [160 ,337 ,31], \n",
    " [186 ,423 ,42], \n",
    " [125 ,334 ,26], \n",
    " [218 ,533 ,16], \n",
    " [146 ,344 ,22]])"
   ]
  },
  {
   "cell_type": "code",
   "execution_count": 1,
   "metadata": {},
   "outputs": [
    {
     "ename": "NameError",
     "evalue": "name 'data' is not defined",
     "output_type": "error",
     "traceback": [
      "\u001b[0;31m---------------------------------------------------------------------------\u001b[0m",
      "\u001b[0;31mNameError\u001b[0m                                 Traceback (most recent call last)",
      "Cell \u001b[0;32mIn [1], line 1\u001b[0m\n\u001b[0;32m----> 1\u001b[0m x_coords \u001b[39m=\u001b[39m data[ : , \u001b[39m0\u001b[39m]\n\u001b[1;32m      2\u001b[0m y_coords \u001b[39m=\u001b[39m data[ : , \u001b[39m1\u001b[39m]\n\u001b[1;32m      3\u001b[0m uncertainities \u001b[39m=\u001b[39m data[ : , \u001b[39m2\u001b[39m]\n",
      "\u001b[0;31mNameError\u001b[0m: name 'data' is not defined"
     ]
    }
   ],
   "source": [
    "x_coords = data[ : , 0]\n",
    "y_coords = data[ : , 1]\n",
    "uncertainities = data[ : , 2]\n",
    "\n",
    "def polyn(x , m , b):\n",
    "    return m * x + b\n",
    "\n",
    "optimal_param , optimal_cov = sp.optimize.curve_fit(polyn , x_coords , y_coords , sigma = uncertainities)\n",
    "\n",
    "print(\"The optimal values of m and b are {} and {} respectively\".format(optimal_param[0] , optimal_param[1]))\n",
    "\n",
    "# getting x_axis\n",
    "x_min = np.min(x_coords)\n",
    "x_max = np.max(x_coords)\n",
    "x = np.linspace(x_min , x_max , 1000)\n",
    "\n",
    "plt.plot(x_coords , y_coords , 'ro')\n",
    "plt.plot(x , polyn(x , optimal_param[0] , optimal_param[1]) , 'r-')\n",
    "plt.errorbar(x_coords , y_coords , yerr = uncertainities)\n",
    "plt.grid()\n",
    "plt.title(\"Best Fitting Line using Chi Square Minimization along with Error Bars\")\n",
    "plt.show()"
   ]
  },
  {
   "attachments": {},
   "cell_type": "markdown",
   "metadata": {},
   "source": [
    "**Question 3**\n",
    "\n",
    "Calculate the p-value for the four chi-square values for the plot shown in\n",
    "class from astroMl book which can be found at https://www.astroml.org/book_figures_1ed/chapter4/fig_chi2_eval.html."
   ]
  },
  {
   "cell_type": "code",
   "execution_count": 29,
   "metadata": {},
   "outputs": [
    {
     "name": "stdout",
     "output_type": "stream",
     "text": [
      "For plot 1 , the p-value is 0.5529264339960218 and the Chi-Square Value is 47.04\n",
      "For plot 2 , the p-value is 0.9999999917009567 and the Chi-Square Value is 11.76\n",
      "For plot 3 , the p-value is 0.0 and the Chi-Square Value is 188.16\n",
      "For plot 4 , the p-value is 1.2107292945984227e-10 and the Chi-Square Value is 139.65\n"
     ]
    }
   ],
   "source": [
    "chi_square_reduced = [0.96 , 0.24 , 3.84 , 2.85]\n",
    "\n",
    "# Number of data points (taken from the original code)\n",
    "N = 50\n",
    "\n",
    "# Number of free parameters\n",
    "M = 1 # since all the estimations ahve been done with a line of the form y = k\n",
    "\n",
    "# Degrees of Freedom\n",
    "dof = N - M\n",
    "\n",
    "for idx , chi_dof in enumerate(chi_square_reduced):\n",
    "    chi_square = chi_dof * dof\n",
    "    p_value = 1 - sp.stats.chi2(dof).cdf(chi_square)\n",
    "\n",
    "    print(\"For plot {} , the p-value is {} and the Chi-Square Value is {}\".format(idx + 1 , p_value , chi_square))"
   ]
  }
 ],
 "metadata": {
  "kernelspec": {
   "display_name": "test_env",
   "language": "python",
   "name": "python3"
  },
  "language_info": {
   "codemirror_mode": {
    "name": "ipython",
    "version": 3
   },
   "file_extension": ".py",
   "mimetype": "text/x-python",
   "name": "python",
   "nbconvert_exporter": "python",
   "pygments_lexer": "ipython3",
   "version": "3.10.6"
  },
  "orig_nbformat": 4,
  "vscode": {
   "interpreter": {
    "hash": "f0b3843ef66ef72e0d095359ab408deb80cd37476039c722f337af7e4c5c1d89"
   }
  }
 },
 "nbformat": 4,
 "nbformat_minor": 2
}
